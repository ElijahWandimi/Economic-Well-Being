{
 "cells": [
  {
   "cell_type": "code",
   "execution_count": 14,
   "id": "deff7f2c",
   "metadata": {},
   "outputs": [],
   "source": [
    "import pandas as pd\n",
    "import numpy as np\n",
    "import matplotlib.pyplot as plt\n",
    "import seaborn as sns\n",
    "import datetime as dt\n",
    "import warnings\n",
    "warnings.filterwarnings('ignore')\n",
    "%matplotlib inline\n",
    "pd.set_option('display.max_columns', None)\n",
    "pd.set_option('display.max_colwidth', None)"
   ]
  },
  {
   "cell_type": "code",
   "execution_count": 3,
   "id": "9c226828",
   "metadata": {},
   "outputs": [],
   "source": [
    "train = pd.read_csv('datasets/zindi/economicwell/Train.csv')\n",
    "test = pd.read_csv('datasets/zindi/economicwell/Test.csv')\n",
    "split = train.shape[0]"
   ]
  },
  {
   "cell_type": "code",
   "execution_count": 8,
   "metadata": {},
   "outputs": [
    {
     "output_type": "execute_result",
     "data": {
      "text/plain": [
       "(28648, 19)"
      ]
     },
     "metadata": {},
     "execution_count": 8
    }
   ],
   "source": [
    "econ = pd.concat([train, test], axis=0)\n",
    "econ.shape"
   ]
  },
  {
   "cell_type": "code",
   "execution_count": 29,
   "metadata": {},
   "outputs": [
    {
     "output_type": "execute_result",
     "data": {
      "text/plain": [
       "      country  year urban_or_rural  ghsl_water_surface  ghsl_built_pre_1975  \\\n",
       "0    Ethiopia  2016              R                 0.0                  0.0   \n",
       "1    Ethiopia  2005              R                 0.0                  0.0   \n",
       "2  Mozambique  2009              R                 0.0                  0.0   \n",
       "\n",
       "   ghsl_built_1975_to_1990  ghsl_built_1990_to_2000  ghsl_built_2000_to_2014  \\\n",
       "0                  0.00000                 0.000055                 0.000536   \n",
       "1                  0.00011                 0.000000                 0.000018   \n",
       "2                  0.00000                 0.000000                 0.000000   \n",
       "\n",
       "   ghsl_not_built_up  ghsl_pop_density  landcover_crops_fraction  \\\n",
       "0           0.999408         12.146134                 25.489659   \n",
       "1           0.999872        113.806716                 64.136053   \n",
       "2           1.000000          0.000000                  4.400096   \n",
       "\n",
       "   landcover_urban_fraction  landcover_water_permanent_10km_fraction  \\\n",
       "0                  0.879484                                      0.0   \n",
       "1                  0.601427                                      0.0   \n",
       "2                  0.131900                                      0.0   \n",
       "\n",
       "   landcover_water_seasonal_10km_fraction  nighttime_lights  dist_to_capital  \\\n",
       "0                                0.000000               0.0       278.788451   \n",
       "1                                0.005427               0.0       200.986978   \n",
       "2                                0.003078               0.0       642.594208   \n",
       "\n",
       "   dist_to_shoreline    Target  country_freq_encode  \n",
       "0         769.338378  0.132783             0.060074  \n",
       "1         337.135243  0.004898             0.060074  \n",
       "2         169.913773  0.097320             0.030683  "
      ],
      "text/html": "<div>\n<style scoped>\n    .dataframe tbody tr th:only-of-type {\n        vertical-align: middle;\n    }\n\n    .dataframe tbody tr th {\n        vertical-align: top;\n    }\n\n    .dataframe thead th {\n        text-align: right;\n    }\n</style>\n<table border=\"1\" class=\"dataframe\">\n  <thead>\n    <tr style=\"text-align: right;\">\n      <th></th>\n      <th>country</th>\n      <th>year</th>\n      <th>urban_or_rural</th>\n      <th>ghsl_water_surface</th>\n      <th>ghsl_built_pre_1975</th>\n      <th>ghsl_built_1975_to_1990</th>\n      <th>ghsl_built_1990_to_2000</th>\n      <th>ghsl_built_2000_to_2014</th>\n      <th>ghsl_not_built_up</th>\n      <th>ghsl_pop_density</th>\n      <th>landcover_crops_fraction</th>\n      <th>landcover_urban_fraction</th>\n      <th>landcover_water_permanent_10km_fraction</th>\n      <th>landcover_water_seasonal_10km_fraction</th>\n      <th>nighttime_lights</th>\n      <th>dist_to_capital</th>\n      <th>dist_to_shoreline</th>\n      <th>Target</th>\n      <th>country_freq_encode</th>\n    </tr>\n  </thead>\n  <tbody>\n    <tr>\n      <th>0</th>\n      <td>Ethiopia</td>\n      <td>2016</td>\n      <td>R</td>\n      <td>0.0</td>\n      <td>0.0</td>\n      <td>0.00000</td>\n      <td>0.000055</td>\n      <td>0.000536</td>\n      <td>0.999408</td>\n      <td>12.146134</td>\n      <td>25.489659</td>\n      <td>0.879484</td>\n      <td>0.0</td>\n      <td>0.000000</td>\n      <td>0.0</td>\n      <td>278.788451</td>\n      <td>769.338378</td>\n      <td>0.132783</td>\n      <td>0.060074</td>\n    </tr>\n    <tr>\n      <th>1</th>\n      <td>Ethiopia</td>\n      <td>2005</td>\n      <td>R</td>\n      <td>0.0</td>\n      <td>0.0</td>\n      <td>0.00011</td>\n      <td>0.000000</td>\n      <td>0.000018</td>\n      <td>0.999872</td>\n      <td>113.806716</td>\n      <td>64.136053</td>\n      <td>0.601427</td>\n      <td>0.0</td>\n      <td>0.005427</td>\n      <td>0.0</td>\n      <td>200.986978</td>\n      <td>337.135243</td>\n      <td>0.004898</td>\n      <td>0.060074</td>\n    </tr>\n    <tr>\n      <th>2</th>\n      <td>Mozambique</td>\n      <td>2009</td>\n      <td>R</td>\n      <td>0.0</td>\n      <td>0.0</td>\n      <td>0.00000</td>\n      <td>0.000000</td>\n      <td>0.000000</td>\n      <td>1.000000</td>\n      <td>0.000000</td>\n      <td>4.400096</td>\n      <td>0.131900</td>\n      <td>0.0</td>\n      <td>0.003078</td>\n      <td>0.0</td>\n      <td>642.594208</td>\n      <td>169.913773</td>\n      <td>0.097320</td>\n      <td>0.030683</td>\n    </tr>\n  </tbody>\n</table>\n</div>"
     },
     "metadata": {},
     "execution_count": 29
    }
   ],
   "source": [
    "econ.head(3)"
   ]
  },
  {
   "cell_type": "code",
   "execution_count": 10,
   "metadata": {},
   "outputs": [],
   "source": [
    "econ.drop(['ID'], axis=1, inplace=True)"
   ]
  },
  {
   "cell_type": "code",
   "execution_count": 11,
   "metadata": {},
   "outputs": [
    {
     "output_type": "execute_result",
     "data": {
      "text/plain": [
       "25"
      ]
     },
     "metadata": {},
     "execution_count": 11
    }
   ],
   "source": [
    "econ.country.nunique()"
   ]
  },
  {
   "cell_type": "code",
   "execution_count": 12,
   "metadata": {},
   "outputs": [
    {
     "output_type": "stream",
     "name": "stdout",
     "text": [
      "<class 'pandas.core.frame.DataFrame'>\nInt64Index: 28648 entries, 0 to 7193\nData columns (total 18 columns):\n #   Column                                   Non-Null Count  Dtype  \n---  ------                                   --------------  -----  \n 0   country                                  28648 non-null  object \n 1   year                                     28648 non-null  int64  \n 2   urban_or_rural                           28648 non-null  object \n 3   ghsl_water_surface                       28648 non-null  float64\n 4   ghsl_built_pre_1975                      28648 non-null  float64\n 5   ghsl_built_1975_to_1990                  28648 non-null  float64\n 6   ghsl_built_1990_to_2000                  28648 non-null  float64\n 7   ghsl_built_2000_to_2014                  28648 non-null  float64\n 8   ghsl_not_built_up                        28648 non-null  float64\n 9   ghsl_pop_density                         28648 non-null  float64\n 10  landcover_crops_fraction                 28648 non-null  float64\n 11  landcover_urban_fraction                 28648 non-null  float64\n 12  landcover_water_permanent_10km_fraction  28648 non-null  float64\n 13  landcover_water_seasonal_10km_fraction   28648 non-null  float64\n 14  nighttime_lights                         28648 non-null  float64\n 15  dist_to_capital                          28648 non-null  float64\n 16  dist_to_shoreline                        28648 non-null  float64\n 17  Target                                   21454 non-null  float64\ndtypes: float64(15), int64(1), object(2)\nmemory usage: 4.2+ MB\n"
     ]
    }
   ],
   "source": [
    "econ.info()"
   ]
  },
  {
   "cell_type": "code",
   "execution_count": 13,
   "metadata": {},
   "outputs": [
    {
     "output_type": "execute_result",
     "data": {
      "text/plain": [
       "               year  ghsl_water_surface  ghsl_built_pre_1975  \\\n",
       "count  28648.000000        28648.000000         28648.000000   \n",
       "mean    2010.271537            0.027018             0.041010   \n",
       "std        4.553145            0.095199             0.118721   \n",
       "min     1994.000000            0.000000             0.000000   \n",
       "25%     2008.000000            0.000000             0.000000   \n",
       "50%     2011.000000            0.000000             0.000160   \n",
       "75%     2014.000000            0.000000             0.008011   \n",
       "max     2016.000000            0.991100             0.894608   \n",
       "\n",
       "       ghsl_built_1975_to_1990  ghsl_built_1990_to_2000  \\\n",
       "count             28648.000000             28648.000000   \n",
       "mean                  0.027820                 0.013713   \n",
       "std                   0.072850                 0.034208   \n",
       "min                   0.000000                 0.000000   \n",
       "25%                   0.000000                 0.000037   \n",
       "50%                   0.000602                 0.000936   \n",
       "75%                   0.010037                 0.008823   \n",
       "max                   0.685010                 0.515534   \n",
       "\n",
       "       ghsl_built_2000_to_2014  ghsl_not_built_up  ghsl_pop_density  \\\n",
       "count             28648.000000       28648.000000      28648.000000   \n",
       "mean                  0.018369           0.872069         95.101508   \n",
       "std                   0.040241           0.242707        210.079701   \n",
       "min                   0.000000           0.000859          0.000000   \n",
       "25%                   0.000109           0.895615          2.943082   \n",
       "50%                   0.001727           0.992725         16.424158   \n",
       "75%                   0.015209           0.999592         64.364772   \n",
       "max                   0.649159           1.000000       1902.876955   \n",
       "\n",
       "       landcover_crops_fraction  landcover_urban_fraction  \\\n",
       "count              28648.000000              28648.000000   \n",
       "mean                  21.097237                 14.079153   \n",
       "std                   16.309999                 23.917510   \n",
       "min                    0.000000                  0.000000   \n",
       "25%                    6.105505                  0.705307   \n",
       "50%                   19.297194                  2.599028   \n",
       "75%                   33.199903                 13.063126   \n",
       "max                   80.064918                 98.784092   \n",
       "\n",
       "       landcover_water_permanent_10km_fraction  \\\n",
       "count                             28648.000000   \n",
       "mean                                  1.668968   \n",
       "std                                   7.152657   \n",
       "min                                   0.000000   \n",
       "25%                                   0.000000   \n",
       "50%                                   0.000579   \n",
       "75%                                   0.172243   \n",
       "max                                  99.164018   \n",
       "\n",
       "       landcover_water_seasonal_10km_fraction  nighttime_lights  \\\n",
       "count                            28648.000000      28648.000000   \n",
       "mean                                 0.694652          9.260498   \n",
       "std                                  2.383790         26.160952   \n",
       "min                                  0.000000          0.000000   \n",
       "25%                                  0.001394          0.000000   \n",
       "50%                                  0.033941          0.024074   \n",
       "75%                                  0.375420          4.963472   \n",
       "max                                 56.201637        403.455783   \n",
       "\n",
       "       dist_to_capital  dist_to_shoreline        Target  \n",
       "count     28648.000000       28648.000000  21454.000000  \n",
       "mean        300.584775         473.801360      0.350736  \n",
       "std         269.097712         355.856845      0.194376  \n",
       "min           0.105306           0.112080      0.000000  \n",
       "25%         110.789483         158.829182      0.195772  \n",
       "50%         253.537926         420.442368      0.293574  \n",
       "75%         403.780077         732.552186      0.499003  \n",
       "max        1908.105037        1769.523906      1.000000  "
      ],
      "text/html": "<div>\n<style scoped>\n    .dataframe tbody tr th:only-of-type {\n        vertical-align: middle;\n    }\n\n    .dataframe tbody tr th {\n        vertical-align: top;\n    }\n\n    .dataframe thead th {\n        text-align: right;\n    }\n</style>\n<table border=\"1\" class=\"dataframe\">\n  <thead>\n    <tr style=\"text-align: right;\">\n      <th></th>\n      <th>year</th>\n      <th>ghsl_water_surface</th>\n      <th>ghsl_built_pre_1975</th>\n      <th>ghsl_built_1975_to_1990</th>\n      <th>ghsl_built_1990_to_2000</th>\n      <th>ghsl_built_2000_to_2014</th>\n      <th>ghsl_not_built_up</th>\n      <th>ghsl_pop_density</th>\n      <th>landcover_crops_fraction</th>\n      <th>landcover_urban_fraction</th>\n      <th>landcover_water_permanent_10km_fraction</th>\n      <th>landcover_water_seasonal_10km_fraction</th>\n      <th>nighttime_lights</th>\n      <th>dist_to_capital</th>\n      <th>dist_to_shoreline</th>\n      <th>Target</th>\n    </tr>\n  </thead>\n  <tbody>\n    <tr>\n      <th>count</th>\n      <td>28648.000000</td>\n      <td>28648.000000</td>\n      <td>28648.000000</td>\n      <td>28648.000000</td>\n      <td>28648.000000</td>\n      <td>28648.000000</td>\n      <td>28648.000000</td>\n      <td>28648.000000</td>\n      <td>28648.000000</td>\n      <td>28648.000000</td>\n      <td>28648.000000</td>\n      <td>28648.000000</td>\n      <td>28648.000000</td>\n      <td>28648.000000</td>\n      <td>28648.000000</td>\n      <td>21454.000000</td>\n    </tr>\n    <tr>\n      <th>mean</th>\n      <td>2010.271537</td>\n      <td>0.027018</td>\n      <td>0.041010</td>\n      <td>0.027820</td>\n      <td>0.013713</td>\n      <td>0.018369</td>\n      <td>0.872069</td>\n      <td>95.101508</td>\n      <td>21.097237</td>\n      <td>14.079153</td>\n      <td>1.668968</td>\n      <td>0.694652</td>\n      <td>9.260498</td>\n      <td>300.584775</td>\n      <td>473.801360</td>\n      <td>0.350736</td>\n    </tr>\n    <tr>\n      <th>std</th>\n      <td>4.553145</td>\n      <td>0.095199</td>\n      <td>0.118721</td>\n      <td>0.072850</td>\n      <td>0.034208</td>\n      <td>0.040241</td>\n      <td>0.242707</td>\n      <td>210.079701</td>\n      <td>16.309999</td>\n      <td>23.917510</td>\n      <td>7.152657</td>\n      <td>2.383790</td>\n      <td>26.160952</td>\n      <td>269.097712</td>\n      <td>355.856845</td>\n      <td>0.194376</td>\n    </tr>\n    <tr>\n      <th>min</th>\n      <td>1994.000000</td>\n      <td>0.000000</td>\n      <td>0.000000</td>\n      <td>0.000000</td>\n      <td>0.000000</td>\n      <td>0.000000</td>\n      <td>0.000859</td>\n      <td>0.000000</td>\n      <td>0.000000</td>\n      <td>0.000000</td>\n      <td>0.000000</td>\n      <td>0.000000</td>\n      <td>0.000000</td>\n      <td>0.105306</td>\n      <td>0.112080</td>\n      <td>0.000000</td>\n    </tr>\n    <tr>\n      <th>25%</th>\n      <td>2008.000000</td>\n      <td>0.000000</td>\n      <td>0.000000</td>\n      <td>0.000000</td>\n      <td>0.000037</td>\n      <td>0.000109</td>\n      <td>0.895615</td>\n      <td>2.943082</td>\n      <td>6.105505</td>\n      <td>0.705307</td>\n      <td>0.000000</td>\n      <td>0.001394</td>\n      <td>0.000000</td>\n      <td>110.789483</td>\n      <td>158.829182</td>\n      <td>0.195772</td>\n    </tr>\n    <tr>\n      <th>50%</th>\n      <td>2011.000000</td>\n      <td>0.000000</td>\n      <td>0.000160</td>\n      <td>0.000602</td>\n      <td>0.000936</td>\n      <td>0.001727</td>\n      <td>0.992725</td>\n      <td>16.424158</td>\n      <td>19.297194</td>\n      <td>2.599028</td>\n      <td>0.000579</td>\n      <td>0.033941</td>\n      <td>0.024074</td>\n      <td>253.537926</td>\n      <td>420.442368</td>\n      <td>0.293574</td>\n    </tr>\n    <tr>\n      <th>75%</th>\n      <td>2014.000000</td>\n      <td>0.000000</td>\n      <td>0.008011</td>\n      <td>0.010037</td>\n      <td>0.008823</td>\n      <td>0.015209</td>\n      <td>0.999592</td>\n      <td>64.364772</td>\n      <td>33.199903</td>\n      <td>13.063126</td>\n      <td>0.172243</td>\n      <td>0.375420</td>\n      <td>4.963472</td>\n      <td>403.780077</td>\n      <td>732.552186</td>\n      <td>0.499003</td>\n    </tr>\n    <tr>\n      <th>max</th>\n      <td>2016.000000</td>\n      <td>0.991100</td>\n      <td>0.894608</td>\n      <td>0.685010</td>\n      <td>0.515534</td>\n      <td>0.649159</td>\n      <td>1.000000</td>\n      <td>1902.876955</td>\n      <td>80.064918</td>\n      <td>98.784092</td>\n      <td>99.164018</td>\n      <td>56.201637</td>\n      <td>403.455783</td>\n      <td>1908.105037</td>\n      <td>1769.523906</td>\n      <td>1.000000</td>\n    </tr>\n  </tbody>\n</table>\n</div>"
     },
     "metadata": {},
     "execution_count": 13
    }
   ],
   "source": [
    "econ.describe()"
   ]
  },
  {
   "cell_type": "code",
   "execution_count": 15,
   "metadata": {},
   "outputs": [],
   "source": [
    "from sklearn.preprocessing import StandardScaler\n",
    "scaler = StandardScaler()"
   ]
  },
  {
   "cell_type": "code",
   "execution_count": 17,
   "metadata": {},
   "outputs": [],
   "source": [
    "cat_cols = ['country','urban_or_rural']"
   ]
  },
  {
   "cell_type": "code",
   "execution_count": 28,
   "metadata": {},
   "outputs": [],
   "source": [
    "freq = econ.groupby('country').size() / len(econ)\n",
    "econ.loc[:, '{}_freq_encode'.format('country')] = econ['country'].map(freq)\n",
    "    "
   ]
  },
  {
   "cell_type": "code",
   "execution_count": 30,
   "metadata": {},
   "outputs": [],
   "source": [
    "freq = econ.groupby('urban_or_rural').size() / len(econ)\n",
    "econ.loc[:, '{}_freq_encode'.format('urban_or_rural')] = econ['urban_or_rural'].map(freq)"
   ]
  },
  {
   "cell_type": "code",
   "execution_count": 31,
   "metadata": {},
   "outputs": [],
   "source": [
    "econ.drop(cat_cols, axis=1, inplace=True)"
   ]
  },
  {
   "cell_type": "code",
   "execution_count": 20,
   "metadata": {},
   "outputs": [
    {
     "output_type": "execute_result",
     "data": {
      "text/plain": [
       "['ghsl_water_surface',\n",
       " 'ghsl_built_pre_1975',\n",
       " 'ghsl_built_1975_to_1990',\n",
       " 'ghsl_built_1990_to_2000',\n",
       " 'ghsl_built_2000_to_2014',\n",
       " 'ghsl_not_built_up',\n",
       " 'ghsl_pop_density',\n",
       " 'landcover_crops_fraction',\n",
       " 'landcover_urban_fraction',\n",
       " 'landcover_water_permanent_10km_fraction',\n",
       " 'landcover_water_seasonal_10km_fraction',\n",
       " 'nighttime_lights',\n",
       " 'dist_to_capital',\n",
       " 'dist_to_shoreline']"
      ]
     },
     "metadata": {},
     "execution_count": 20
    }
   ],
   "source": [
    "num_cols = [col for col in econ.columns if col not in cat_cols + ['year', 'Target']]\n",
    "num_cols"
   ]
  },
  {
   "cell_type": "code",
   "execution_count": 32,
   "metadata": {},
   "outputs": [],
   "source": [
    "training = econ[:split]\n",
    "testing = econ[split:]"
   ]
  },
  {
   "cell_type": "code",
   "execution_count": 33,
   "metadata": {},
   "outputs": [],
   "source": [
    "X, y = training.drop(['Target'], axis=1), training['Target']"
   ]
  },
  {
   "cell_type": "code",
   "execution_count": 34,
   "metadata": {},
   "outputs": [],
   "source": [
    "X = scaler.fit_transform(X)"
   ]
  },
  {
   "cell_type": "code",
   "execution_count": 39,
   "metadata": {},
   "outputs": [],
   "source": [
    "from sklearn.model_selection import train_test_split\n",
    "X_train, X_test, y_train, y_test = train_test_split(X, y, test_size=0.20, random_state=42)"
   ]
  },
  {
   "cell_type": "code",
   "execution_count": 44,
   "metadata": {},
   "outputs": [],
   "source": [
    "from sklearn.linear_model import Lasso, LinearRegression\n",
    "from sklearn.metrics import mean_squared_error"
   ]
  },
  {
   "cell_type": "code",
   "execution_count": 45,
   "metadata": {},
   "outputs": [],
   "source": [
    "lasso = Lasso()\n",
    "lreg = LinearRegression()"
   ]
  },
  {
   "cell_type": "code",
   "execution_count": 46,
   "metadata": {},
   "outputs": [
    {
     "output_type": "execute_result",
     "data": {
      "text/plain": [
       "LinearRegression()"
      ]
     },
     "metadata": {},
     "execution_count": 46
    }
   ],
   "source": [
    "lreg.fit(X_train, y_train)"
   ]
  },
  {
   "cell_type": "code",
   "execution_count": 47,
   "metadata": {},
   "outputs": [],
   "source": [
    "y_pred = lreg.predict(X_test)"
   ]
  },
  {
   "cell_type": "code",
   "execution_count": 49,
   "metadata": {},
   "outputs": [
    {
     "output_type": "execute_result",
     "data": {
      "text/plain": [
       "0.1207315777240622"
      ]
     },
     "metadata": {},
     "execution_count": 49
    }
   ],
   "source": [
    "rmse = np.sqrt(mean_squared_error(y_test, y_pred))\n",
    "rmse"
   ]
  },
  {
   "cell_type": "code",
   "execution_count": null,
   "metadata": {},
   "outputs": [],
   "source": []
  }
 ],
 "metadata": {
  "kernelspec": {
   "name": "python3",
   "display_name": "Python 3.9.2 64-bit"
  },
  "language_info": {
   "codemirror_mode": {
    "name": "ipython",
    "version": 3
   },
   "file_extension": ".py",
   "mimetype": "text/x-python",
   "name": "python",
   "nbconvert_exporter": "python",
   "pygments_lexer": "ipython3",
   "version": "3.9.2"
  },
  "interpreter": {
   "hash": "916dbcbb3f70747c44a77c7bcd40155683ae19c65e1c03b4aa3499c5328201f1"
  }
 },
 "nbformat": 4,
 "nbformat_minor": 5
}